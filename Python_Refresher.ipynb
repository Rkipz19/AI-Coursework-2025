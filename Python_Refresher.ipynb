{
 "cells": [
  {
   "cell_type": "markdown",
   "id": "c2f50334",
   "metadata": {},
   "source": [
    "## Practial Exercise 1"
   ]
  },
  {
   "cell_type": "markdown",
   "id": "dde5b4b1",
   "metadata": {},
   "source": [
    "#### Question 1: Converting Days to seconds"
   ]
  },
  {
   "cell_type": "code",
   "execution_count": 8,
   "id": "a2aaece9",
   "metadata": {},
   "outputs": [
    {
     "name": "stdout",
     "output_type": "stream",
     "text": [
      "7 days in seconds: 604800 seconds\n"
     ]
    }
   ],
   "source": [
    "numberOfDays = int(input(\"Enter number of days\"))\n",
    "seconds = numberOfDays*24*3600 #24 representing hours in a day and 3600 representing seconds in an hour\n",
    "print(numberOfDays,\"days in seconds:\",seconds,\"seconds\")"
   ]
  },
  {
   "cell_type": "markdown",
   "id": "55966967",
   "metadata": {},
   "source": [
    "#### Question 2: Volume of a Sphere"
   ]
  },
  {
   "cell_type": "code",
   "execution_count": null,
   "id": "e7d1035b",
   "metadata": {},
   "outputs": [
    {
     "name": "stdout",
     "output_type": "stream",
     "text": [
      "Volume of a sphere with a radius of 10.4 is: 4709.431\n"
     ]
    }
   ],
   "source": [
    "radius = float(input(\"Enter radius:\"))\n",
    "pi = 3.14\n",
    "volume = 4/3 * pi * radius ** 3\n",
    "print(\"Volume of a sphere with a radius of\", radius, \"is:\", round(volume,3)) #calculated the volume and rounded off to the nearest 3 decimal places"
   ]
  },
  {
   "cell_type": "markdown",
   "id": "299cb8e4",
   "metadata": {},
   "source": [
    "\n",
    "#### Question 3: Area and perimeter of a square"
   ]
  },
  {
   "cell_type": "code",
   "execution_count": null,
   "id": "d01f93a2",
   "metadata": {},
   "outputs": [
    {
     "name": "stdout",
     "output_type": "stream",
     "text": [
      "A square with side length of 5 : Area = 25\n",
      "A square with side length of 5 : Perimeter = 20\n"
     ]
    }
   ],
   "source": [
    "def area(sideLength):\n",
    " area = sideLength ** 2\n",
    " print(\"A square with side length of\",sideLength,\": Area =\",area)\n",
    "\n",
    "def perimeter(sideLength):\n",
    "  perimeter = 4 * sideLength\n",
    "  print(\"A square with side length of\",sideLength,\": Perimeter =\",perimeter)\n",
    "\n",
    "sl0 = int(input(\"Enter side length for area and perimeter\"))\n",
    "\n",
    "area(sl0)\n",
    "perimeter(sl0)\n"
   ]
  },
  {
   "cell_type": "markdown",
   "id": "15dbcb5b",
   "metadata": {},
   "source": [
    "#### Question 4: Uppercase or Lowercase"
   ]
  },
  {
   "cell_type": "code",
   "execution_count": 17,
   "id": "b55a3b4a",
   "metadata": {},
   "outputs": [
    {
     "name": "stdout",
     "output_type": "stream",
     "text": [
      "False\n",
      "True\n"
     ]
    }
   ],
   "source": [
    "def upper(char1):\n",
    " r = char1.isupper()\n",
    " print(r)\n",
    "\n",
    "def lower(char2):\n",
    " s = char2.islower()\n",
    " print(s)\n",
    "\n",
    "char1 = str(input(\"Enter a character\"))\n",
    "\n",
    "upper(char1)\n",
    "lower(char1)"
   ]
  },
  {
   "cell_type": "markdown",
   "id": "980a3366",
   "metadata": {},
   "source": [
    "#### Question 5: While loop"
   ]
  },
  {
   "cell_type": "code",
   "execution_count": null,
   "id": "4e6d934e",
   "metadata": {},
   "outputs": [
    {
     "name": "stdout",
     "output_type": "stream",
     "text": [
      "1.042\n"
     ]
    }
   ],
   "source": [
    "x = 0\n",
    "y = 20\n",
    "\n",
    "while y > 6: #loops as long as condition is true\n",
    " y-=4\n",
    " x+=2/y\n",
    "\n",
    "print(round(x,3)) #rounds off output to 3 decimal points"
   ]
  },
  {
   "cell_type": "markdown",
   "id": "9deb826e",
   "metadata": {},
   "source": [
    "#### Question 6: Arrays"
   ]
  },
  {
   "cell_type": "code",
   "execution_count": null,
   "id": "1a3b1666",
   "metadata": {},
   "outputs": [
    {
     "name": "stdout",
     "output_type": "stream",
     "text": [
      "[3, 4, 5, 6, 7]\n",
      "5.0\n"
     ]
    }
   ],
   "source": [
    "myNumbers = []\n",
    "\n",
    "for x in range(5): #using for loop to input the numbers into the myNumbers array\n",
    "    numbers = int(input(f\"Enter 5 values {x+1}\")) \n",
    "    myNumbers.append(numbers) #adds the numbers one at a time into the array \n",
    "\n",
    "print(myNumbers)\n",
    "\n",
    "avg = sum(myNumbers)/len(myNumbers)\n",
    "print(avg)"
   ]
  },
  {
   "cell_type": "markdown",
   "id": "8a7e7afd",
   "metadata": {},
   "source": [
    "#### Question 7: Data structures"
   ]
  },
  {
   "cell_type": "code",
   "execution_count": null,
   "id": "9f292b8b",
   "metadata": {},
   "outputs": [],
   "source": [
    "function solution($A) {\n",
    "    // Implement your solution here\n",
    "    $arrLength = count($A);\n",
    "    $front = 0;\n",
    "    $back = $arrLength - 1;\n",
    "    $count = 0;\n",
    "    $lastAbs = null; //Remember the last absolute value we countered\n",
    "    \n",
    "    while($front <= $back){\n",
    "        $frontAbs = abs($A[$front]);\n",
    "        $backAbs = abs($A[$back]);\n",
    "\n",
    "        if($frontAbs > $backAbs){\n",
    "            $current = $frontAbs;\n",
    "            $front++;\n",
    "        }else{\n",
    "            $current = $backAbs;\n",
    "            $back--;\n",
    "        }\n",
    "\n",
    "        if($lastAbs == null || $current != $lastAbs){\n",
    "            $count++;\n",
    "            $lastAbs = $current;\n",
    "        }\n",
    "    }\n",
    "    return $count;\n",
    "}"
   ]
  }
 ],
 "metadata": {
  "kernelspec": {
   "display_name": "base",
   "language": "python",
   "name": "python3"
  },
  "language_info": {
   "codemirror_mode": {
    "name": "ipython",
    "version": 3
   },
   "file_extension": ".py",
   "mimetype": "text/x-python",
   "name": "python",
   "nbconvert_exporter": "python",
   "pygments_lexer": "ipython3",
   "version": "3.13.5"
  }
 },
 "nbformat": 4,
 "nbformat_minor": 5
}
